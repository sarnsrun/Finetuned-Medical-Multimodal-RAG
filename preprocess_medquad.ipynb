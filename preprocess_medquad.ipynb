{
 "cells": [
  {
   "cell_type": "code",
   "execution_count": null,
   "id": "9cdff3a0",
   "metadata": {},
   "outputs": [
    {
     "name": "stdout",
     "output_type": "stream",
     "text": [
      "Processed 8822 unique Q&A pairs saved to medquad_clean_unique.csv\n"
     ]
    }
   ],
   "source": [
    "import pandas as pd\n",
    "import re\n",
    "\n",
    "def clean_answer(text):\n",
    "    if not isinstance(text, str):\n",
    "        return \"\"\n",
    "    # Remove answers containing bullet/list points\n",
    "    if re.search(r\"(•|- |\\* |\\d+\\.)\", text):\n",
    "        return \"\"\n",
    "    sentences = [s.strip() for s in re.split(r'\\.\\s*', text) if s.strip()]\n",
    "    seen = set()\n",
    "    cleaned_sentences = []\n",
    "    for sent in sentences:\n",
    "        if len(sent) < 10:\n",
    "            continue\n",
    "        if sent in seen:\n",
    "            continue\n",
    "        cleaned_sentences.append(sent)\n",
    "        seen.add(sent)\n",
    "    cleaned_text = '. '.join(cleaned_sentences)\n",
    "    cleaned_text = re.sub(r'\\s+', ' ', cleaned_text)\n",
    "    cleaned_text = cleaned_text.replace(\" - \", \" • \").replace(\"- \", \"• \")\n",
    "    if not cleaned_text.endswith('.'):\n",
    "        cleaned_text += '.'\n",
    "    return cleaned_text.strip()\n",
    "\n",
    "def preprocess_medquad(file_path):\n",
    "    df = pd.read_csv(file_path)\n",
    "    df_unique = df.drop_duplicates(subset=['question'], keep='first').reset_index(drop=True)\n",
    "    df_unique['answer'] = df_unique['answer'].apply(clean_answer)  # overwrite answer with cleaned\n",
    "    # Remove rows where answer is empty after cleaning\n",
    "    df_unique = df_unique[df_unique['answer'].str.strip() != \"\"].reset_index(drop=True)\n",
    "    return df_unique  # return all columns with cleaned answer\n",
    "\n",
    "if __name__ == \"__main__\":\n",
    "    input_file = \"Dataset/medquad.csv\"\n",
    "    output_file = \"medquad_cleaned.csv\"\n",
    "    \n",
    "    cleaned_df = preprocess_medquad(input_file)\n",
    "    cleaned_df.to_csv(output_file, index=False)\n",
    "    \n",
    "    print(f\"Processed {len(cleaned_df)} unique Q&A pairs saved to {output_file}\")\n"
   ]
  },
  {
   "cell_type": "code",
   "execution_count": null,
   "id": "74d9401a",
   "metadata": {},
   "outputs": [
    {
     "name": "stdout",
     "output_type": "stream",
     "text": [
      "JSONL file with only question and answer saved as medquad_cleaned.jsonl\n"
     ]
    }
   ],
   "source": [
    "import json\n",
    "\n",
    "def csv_to_jsonl_qa_only(input_csv, output_jsonl):\n",
    "    df = pd.read_csv(input_csv)\n",
    "\n",
    "    # Only keep question and answer columns\n",
    "    if 'question' not in df.columns or 'answer' not in df.columns:\n",
    "        raise ValueError(\"The input CSV must have 'question' and 'answer' columns.\")\n",
    "\n",
    "    with open(output_jsonl, 'w', encoding='utf-8') as f:\n",
    "        for _, row in df.iterrows():\n",
    "            qa_pair = {\n",
    "                \"question\": str(row['question']),\n",
    "                \"answer\": str(row['answer'])\n",
    "            }\n",
    "            f.write(json.dumps(qa_pair, ensure_ascii=False) + '\\n')\n",
    "\n",
    "if __name__ == \"__main__\":\n",
    "    input_csv = 'medquad_cleaned.csv'\n",
    "    output_jsonl = 'medquad_cleaned.jsonl'\n",
    "    \n",
    "    csv_to_jsonl_qa_only(input_csv, output_jsonl)\n",
    "    print(f\"JSONL file with only question and answer saved as {output_jsonl}\")\n"
   ]
  },
  {
   "cell_type": "code",
   "execution_count": 4,
   "id": "200a13dd",
   "metadata": {},
   "outputs": [
    {
     "name": "stdout",
     "output_type": "stream",
     "text": [
      "JSONL file with only question and answer saved as medquad_cleaned_small.jsonl\n"
     ]
    }
   ],
   "source": [
    "import json\n",
    "\n",
    "def csv_to_jsonl_qa_only(input_csv, output_jsonl):\n",
    "    df = pd.read_csv(input_csv)\n",
    "    df_small = df.head(60)  # Display first 60 rows for debugging\n",
    "\n",
    "    # Only keep question and answer columns\n",
    "    if 'question' not in df.columns or 'answer' not in df.columns:\n",
    "        raise ValueError(\"The input CSV must have 'question' and 'answer' columns.\")\n",
    "\n",
    "    with open(output_jsonl, 'w', encoding='utf-8') as f:\n",
    "        for _, row in df_small.iterrows():\n",
    "            qa_pair = {\n",
    "                \"question\": str(row['question']),\n",
    "                \"answer\": str(row['answer'])\n",
    "            }\n",
    "            f.write(json.dumps(qa_pair, ensure_ascii=False) + '\\n')\n",
    "\n",
    "if __name__ == \"__main__\":\n",
    "    input_csv = 'medquad_cleaned.csv'\n",
    "    output_jsonl = 'medquad_cleaned_small.jsonl'\n",
    "    \n",
    "    csv_to_jsonl_qa_only(input_csv, output_jsonl)\n",
    "    print(f\"JSONL file with only question and answer saved as {output_jsonl}\")"
   ]
  },
  {
   "cell_type": "code",
   "execution_count": 5,
   "id": "f715e61f",
   "metadata": {},
   "outputs": [
    {
     "data": {
      "text/plain": [
       "question       0\n",
       "answer         5\n",
       "source         0\n",
       "focus_area    14\n",
       "dtype: int64"
      ]
     },
     "execution_count": 5,
     "metadata": {},
     "output_type": "execute_result"
    }
   ],
   "source": [
    "dataset = pd.read_csv('medquad.csv')\n",
    "dataset.isnull().sum()"
   ]
  },
  {
   "cell_type": "code",
   "execution_count": null,
   "id": "497f3e0a",
   "metadata": {},
   "outputs": [
    {
     "data": {
      "text/plain": [
       "question       0\n",
       "answer         5\n",
       "source         0\n",
       "focus_area    13\n",
       "dtype: int64"
      ]
     },
     "execution_count": 2,
     "metadata": {},
     "output_type": "execute_result"
    }
   ],
   "source": [
    "import pandas as pd\n",
    "\n",
    "df = pd.read_csv('medquad_clean_unique.csv')\n",
    "df.isnull().sum()  # Check for any null values in the DataFrame"
   ]
  },
  {
   "cell_type": "code",
   "execution_count": 4,
   "id": "b4964a54",
   "metadata": {},
   "outputs": [],
   "source": [
    "df = df.dropna(subset=['answer'])  # Drop rows with any null values\n",
    "df.to_csv('medquad_clean_unique.csv', index=False)  # Save the cleaned DataFrame"
   ]
  },
  {
   "cell_type": "code",
   "execution_count": null,
   "id": "61edeac3",
   "metadata": {},
   "outputs": [],
   "source": [
    "import faiss\n",
    "import numpy as np\n",
    "import torch\n",
    "import pandas as pd\n",
    "from sklearn.feature_extraction.text import TfidfVectorizer\n",
    "\n",
    "df = pd.read_csv('medquad_clean_unique.csv')\n",
    "\n",
    "# Example corpus\n",
    "\n",
    "corpus = df['answer'].tolist()  # your list of documents\n",
    "\n",
    "# Load model and encode corpus\n",
    "vectorizer = TfidfVectorizer()\n",
    "corpus_vec = vectorizer.fit_transform(corpus).toarray()\n",
    "\n",
    "index = faiss.IndexFlatL2(corpus_vec.shape[1])  # L2 distance index\n",
    "index.add(np.array(corpus_vec, dtype=np.float32))  # Add vectors to the index\n",
    "\n",
    "# Save index\n",
    "faiss.write_index(index, \"medquad_faiss.index\")\n",
    "\n",
    "# Later: load index\n",
    "index_loaded = faiss.read_index(\"medquad_faiss.index\")\n"
   ]
  },
  {
   "cell_type": "code",
   "execution_count": 9,
   "id": "491d9c05",
   "metadata": {},
   "outputs": [],
   "source": [
    "from datasets import Dataset\n",
    "import json\n",
    "\n",
    "data = []\n",
    "with open('medquad_qa_only.jsonl', 'r', encoding='utf-8') as f:\n",
    "    for line in f:\n",
    "        data.append(json.loads(line))\n",
    "\n",
    "dataset = Dataset.from_list(data)"
   ]
  },
  {
   "cell_type": "code",
   "execution_count": 2,
   "id": "ef514d7b",
   "metadata": {},
   "outputs": [],
   "source": [
    "for i, record in enumerate(data):\n",
    "    try:\n",
    "        Dataset.from_list([record])\n",
    "    except Exception as e:\n",
    "        print(f\"Error at row {i}: {record}\")\n",
    "        print(e)\n",
    "        break\n"
   ]
  },
  {
   "cell_type": "code",
   "execution_count": 4,
   "id": "8d72da67",
   "metadata": {},
   "outputs": [
    {
     "name": "stdout",
     "output_type": "stream",
     "text": [
      "defaultdict(<class 'set'>, {'question': {'str'}, 'answer': {'str', 'float'}})\n"
     ]
    }
   ],
   "source": [
    "from collections import defaultdict\n",
    "\n",
    "types_per_key = defaultdict(set)\n",
    "for record in data:\n",
    "    for k, v in record.items():\n",
    "        types_per_key[k].add(type(v).__name__)\n",
    "\n",
    "print(types_per_key)\n"
   ]
  }
 ],
 "metadata": {
  "kernelspec": {
   "display_name": "Python 3",
   "language": "python",
   "name": "python3"
  },
  "language_info": {
   "codemirror_mode": {
    "name": "ipython",
    "version": 3
   },
   "file_extension": ".py",
   "mimetype": "text/x-python",
   "name": "python",
   "nbconvert_exporter": "python",
   "pygments_lexer": "ipython3",
   "version": "3.11.9"
  }
 },
 "nbformat": 4,
 "nbformat_minor": 5
}
